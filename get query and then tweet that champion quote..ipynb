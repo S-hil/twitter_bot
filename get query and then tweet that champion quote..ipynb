{
 "cells": [
  {
   "cell_type": "code",
   "execution_count": null,
   "metadata": {
    "ExecuteTime": {
     "end_time": "2022-01-31T08:00:52.044338Z",
     "start_time": "2022-01-31T08:00:52.016181Z"
    }
   },
   "outputs": [],
   "source": [
    "import requests\n",
    "import os\n",
    "import json\n",
    "import tweepy\n",
    "import time\n",
    "import markovify\n",
    "import numpy as np\n",
    "import pandas as pd"
   ]
  },
  {
   "cell_type": "code",
   "execution_count": null,
   "metadata": {
    "ExecuteTime": {
     "end_time": "2022-01-31T07:38:48.035085Z",
     "start_time": "2022-01-31T07:38:48.028295Z"
    }
   },
   "outputs": [],
   "source": [
    "BEARER_TOKEN = 'AAAAAAAAAAAAAAAAAAAAANqkYgEAAAAAEo1qgwX7jjuhfdRpWQhC%2FW11nxo%3D0BlDKUN6ZSsxe5GZA9A0g5CFdp4XTZ2eyvysb7vB8l7xXL8PP1'\n",
    "CONSUMER_KEY = 'ruWYH6vJWPbEVGDYOd8DMAyR5'#API key\n",
    "CONSUMER_SECRET = '8Xen1OueAEDXtqBjEvU7ZKNfUpT3LCjLAFhkvC6UrJGE8nlpeL' #API key secret\n",
    "ACCESS_KEY = \"1487543376291319812-aL2edldG7EoaiWmQOFGS0ta2J4WzqM\"\n",
    "ACCESS_SECRET = \"fJABYtWDCD9hnAB4Cu6tqpAZi2SiYR8USqHkxZwDjyN73\""
   ]
  },
  {
   "cell_type": "code",
   "execution_count": null,
   "metadata": {
    "ExecuteTime": {
     "end_time": "2022-01-31T07:38:49.667906Z",
     "start_time": "2022-01-31T07:38:49.650652Z"
    }
   },
   "outputs": [],
   "source": [
    "def create_url():\n",
    "    user_id = 1487543376291319812\n",
    "    return \"https://api.twitter.com/2/users/{}/mentions\".format(user_id)\n",
    "\n",
    "def bearer_oauth(r):\n",
    "    r.headers[\"Authorization\"] = f\"Bearer {BEARER_TOKEN}\"\n",
    "    r.headers[\"User-Agent\"] = \"v2UserMentionsPython\"\n",
    "    return r\n",
    "\n",
    "def get_params():\n",
    "    return {\"tweet.fields\": \"created_at\"}\n",
    "\n",
    "def connect_to_endpoint(url, params):\n",
    "    response = requests.request(\"GET\", url, auth=bearer_oauth, params=params)\n",
    "    if response.status_code != 200:\n",
    "        raise Exception(\n",
    "            \"Request returned an error: {} {}\".format(\n",
    "                response.status_code, response.text\n",
    "            )\n",
    "        )\n",
    "    query = response.json()[\"data\"][0][\"text\"]\n",
    "    query = query.replace(\"@COEN291_bot\",\"\")\n",
    "    query = query.replace(\"@coen291_bot\",\"\")\n",
    "    return query\n",
    "\n",
    "#Takes 30 seconds to work"
   ]
  },
  {
   "cell_type": "code",
   "execution_count": null,
   "metadata": {
    "ExecuteTime": {
     "end_time": "2022-01-31T08:02:19.309297Z",
     "start_time": "2022-01-31T08:02:19.301617Z"
    }
   },
   "outputs": [],
   "source": [
    "consumer_key = CONSUMER_KEY\n",
    "consumer_secret = CONSUMER_SECRET\n",
    "access_token = ACCESS_KEY\n",
    "access_token_secret = ACCESS_SECRET\n",
    "\n",
    "client = tweepy.Client(\n",
    "    consumer_key=consumer_key, consumer_secret=consumer_secret,\n",
    "    access_token=access_token, access_token_secret=access_token_secret\n",
    ")"
   ]
  },
  {
   "cell_type": "code",
   "execution_count": null,
   "metadata": {
    "ExecuteTime": {
     "end_time": "2022-01-31T07:38:50.176801Z",
     "start_time": "2022-01-31T07:38:50.168685Z"
    }
   },
   "outputs": [],
   "source": [
    "master_yi = np.array(['The key to immortality? Not dying!', 'A true master is an eternal student.', \"I will take an eye... heh, as if I don't have enough already.\", 'Tomorrow is no longer your concern.', 'Do not let your pride blind you.','The focused mind can pierce through stone.','The goggles? Just for reading! ','Anger gives motivation without purpose.','Doubt is the greatest enemy',\"My blade is yours.\"])\n",
    "master_yi = pd.Series(master_yi)\n"
   ]
  },
  {
   "cell_type": "code",
   "execution_count": null,
   "metadata": {
    "ExecuteTime": {
     "end_time": "2022-01-31T07:38:50.615874Z",
     "start_time": "2022-01-31T07:38:50.598529Z"
    }
   },
   "outputs": [],
   "source": [
    "lux = np.array([\"You know, you couldn't have shadows without light.\", 'Home is where the spark is.', \"You condemn what you don't understand.\", 'Tomorrow is no longer your concern.', \"I don't have dark secrets - I have bright ones.\",\"I don't get runes. I mean, are spells really that hard to remember?\",\"Hello, person-who-irrationally-wants-to-kill-me! It's so good to meet you.\",\"But all my light puns would've brightened your day.\",\"Guess I'd better bring more light.\",\"I'll melt away your shadows!\",\"Well, a double rainbow is a phenomenon of optics that displays a spectrum of light due to the sun shining on droplets of moisture in the atmosphere. Does that explain it?\",\"Losing is just an opportunity to shine even brighter.\",\"Curiosity's going to kill one of us.\",\"The superior tactic is to never give up.\",\"Kat and Garen sitting in a tree. And you better just be holding hands or I'm telling! \",\"If you hate magic, you're already blind!\",\"The sun is shining, we should too!\"])\n",
    "lux = pd.Series(lux)"
   ]
  },
  {
   "cell_type": "code",
   "execution_count": null,
   "metadata": {
    "ExecuteTime": {
     "end_time": "2022-01-31T07:38:51.055751Z",
     "start_time": "2022-01-31T07:38:51.048149Z"
    }
   },
   "outputs": [],
   "source": [
    "vi=np.array([\"If you really want people to talk to you, you have to let them think you have what they want.\",\n",
    "\"We're either gonna do this the hard way or... oh, wait no, there's just the hard way.\",\n",
    "\"Welcome to the party, try the punch.\",\n",
    "\"What makes you different makes you strong.\",\n",
    "\"Nothing is ever going to change that.\"\n",
    "\"If I hear fat-hands one more time...! \",\n",
    "\"Punch first, ask questions while punching.\",\n",
    "\"Vi stands for violence!\",\n",
    "\"Hey, gimme a beat for my beat down!\",\n",
    "\"We've all have bad days... but we learn and we stick together!\",\n",
    "\"You're stronger than you think. And one day... this city is gonna respect us.\",\n",
    "\"It's hard to check up on people from inside a concrete cell.\",\n",
    "\"Sometimes I think you like being in cuffs.\",\n",
    "\"Call me when you're serious about fighting crime.\",\n",
    "\"How long do I have to pretend to tolerate you.\"])                 "
   ]
  },
  {
   "cell_type": "code",
   "execution_count": null,
   "metadata": {
    "ExecuteTime": {
     "end_time": "2022-01-31T07:38:51.503399Z",
     "start_time": "2022-01-31T07:38:51.490205Z"
    }
   },
   "outputs": [],
   "source": [
    "rell = np.array([\"I'd rather break rules than people, but I can make exceptions.\",\n",
    "\"The helpless fight, the hardened live. That's what they taught me. What they forced down my throat. They wanted me to be strong. Ruthless. Cold as iron. Well... they got their wish.\",\n",
    "\"The armor keeps the world out. The lance does the rest.\",\n",
    "\"Excellence is measured in sacrifice.\",\n",
    "\"Beaten by a girl. To death.\",\n",
    "\"Thanks for the practice, stupid.\",\n",
    "\"Ugh. Just when I thought I knew him, he went back in time.\",\n",
    "\"I told you not to fight me, but here we are.\",\n",
    "\"Someone scrape this idiot off the floor.\",\n",
    "\"I've kicked rocks tougher than you!\",\n",
    "\"You're cute, Seraphine. Uh, well, bye!\",\n",
    "\"Excellence is measured in sacrifice, or whatever.\",\n",
    "\"This little girl is about to crush some heads!\",\n",
    "\"You're Mordekaiser, right? All metal. I can take you.\",\n",
    "\"Bones shatter and people lie, but I can always count on iron.\",\n",
    "\"Nothing gets in, no one gets out.\",\n",
    "\"Fight like you mean it. Die for something that matters.\",\n",
    "\"Run 'em all down! We're good, they're bad, and that's all you need to know.\",\n",
    "\"This 'little girl' is about to crush some heads.\",\n",
    "    \"Fight like you mean it. Die for something that matters!\",\n",
    "    \"The armor keeps the world out. The lance does the rest.\",\n",
    "    \"I'd rather break rules than people, but I can make exceptions.\",\n",
    "    \"I'll twist Noxus until it snaps.\",\n",
    "    \"I fight for the lost. But mostly, I just fight.\",\n",
    "    \"Bones shatter and people lie, but I can always count on iron.\",\n",
    "    \"If I trusted people, I'd need even more armor.\",\n",
    "    \"The helpless fight. The hardened live.\",\n",
    "    \"Friends just get in the way.\",\n",
    "    \"Don't let anyone in. Never let anyone in.\",\n",
    "    \"The Black Rose may have done this to me, but Noxus knew.\",\n",
    "    \"Hurt me enough and I'll split your head open.\",\n",
    "    \"Noxians aren't the heroes they think they are.\",\n",
    "    \"I survived the academy. My 'instructors'... didn't.\",\n",
    "    \"Everyone who's ever stood in my way is dead or broken.\",\n",
    "    \"Forge your heart into something strong, unbreakable.\",\n",
    "    \"Trust is a luxury no one can afford.\",\n",
    "    \"They call it ferromancy. Metal magic.\",\n",
    "    \"The Rose wanted me to be a weapon. Well, here I am.\",\n",
    "    \"I'll finish this fight. I'm the only one who can.\",\n",
    "    \"These sigils are a reminder. Screw my sigils.\",\n",
    "    \"Memories suck.\",\n",
    "    \"Forgiveness? Never.\",\n",
    "    \"They'll pay for what happened to me. Noxus, The Black Rose... everyone.\",\n",
    "    \"When steel crashes against steel, it's so loud. I almost forget.\",\n",
    "    \"The Rose ripped the magic out of my friends and put it into me. I hate them.\",\n",
    "    \"The people who hurt me are dead. All but one. My mother.\",\n",
    "    \"Those academy kids are still out there. I'll find them all. I'll save them.\",\n",
    "    \"Hey, snake. I'm gonna crush your bones.\",\n",
    "    \"You know my dad, General. So you know what's about to happen.\",\n",
    "    \"O...Oh. So your name's Ekko? That's... that's cool. I'm cool.\",\n",
    "    \"Bet the rose would sure hate losing their pet bug.\",\n",
    "    \"You know I can see you, right? Gross little gerbil man...\",\n",
    "    \"Hey, LeBlanc! Tell my mom I'm gonna rip her head off!\",\n",
    "    \"All right, Rell. Be cool. It's just a tall, super-strong armored lady.\",\n",
    "    \"You're Mordekaiser, right? All metal. I can take you.\",\n",
    "    \"Samira. If you're looking for me, here I am.\",\n",
    "    \"You're cute, Seraphine. Uh, well, bye.\",\n",
    "    \"More like the boss of having his shirt off. Oh, I think he heard that.\",\n",
    "    \"Noxus will fall, Swain. Starting with you!\"\n",
    "])\n",
    "\n"
   ]
  },
  {
   "cell_type": "code",
   "execution_count": null,
   "metadata": {
    "ExecuteTime": {
     "end_time": "2022-01-31T07:38:52.029183Z",
     "start_time": "2022-01-31T07:38:52.020961Z"
    }
   },
   "outputs": [],
   "source": [
    "samira = np.array([\"I am the beauty and the beast\",\n",
    "\"Why be average when I can be savage? \",\n",
    "\"I've got two rules for every fight. Don't ask for permission, don't ask for forgiveness\",\n",
    "\"Virtues? I've got a few. Vices? Heh, a few more\",\n",
    "\"Not sure if I just killed an ascended or some kid's lost pet. Ah, well\",\n",
    "\"Xerath. Your people ended my home. I will end your existence\",\n",
    "\"If it looks like a blood sucker and it sounds like a blood sucker... maybe I ought to kill it\",\n",
    "\"Honestly, lantern man? Not sure you can handle my soul\",\n",
    "\"A talking turtle? Okay, maybe I did have one too many\",\n",
    "\"Target neutralized, credits obtained. Time to treat myself\",\n",
    "\"That gauntlet would be better off without you, kid\",\n",
    "\"Well-behaved women don't make it in Noxus\",\n",
    "\"Keep the change. You're gonna need it\",\n",
    "\"In every girl, there is a queen\",\n",
    "\"The term's PsyOps, short for Psychic Operations. My name's Samira, short for styling on idiots\",\n",
    "\"Listen up, you sorry lot! Only one rule for this mission: take no prisoners.\",\n",
    "\"Name's Samira. Try not to slow me down\",\n",
    "\"You want style? You've found her\",\n",
    "\"If you can't keep up don't step up. I don't have time for fools\",\n",
    "\"Life's simple. Take the shot or lose the chance\",\n",
    "\"It's alright if you don't like me. We can't all have good taste\",\n",
    "\"Last person I loved thought I was too reckless. Their loss\",\n",
    "\"Oh, how great it would feel to shoot my past in the face\"])"
   ]
  },
  {
   "cell_type": "code",
   "execution_count": null,
   "metadata": {
    "ExecuteTime": {
     "end_time": "2022-01-31T07:38:52.455522Z",
     "start_time": "2022-01-31T07:38:52.445291Z"
    }
   },
   "outputs": [],
   "source": [
    "yuumi = np.array([\"Alright! Which one of you's got great aim, and is good at chin scritches?\",\n",
    "    \"Cats make great companions! Just ask my master... who disappeared under mysterious circumstances.\",\n",
    "    \"Who's ready to risk our lives, defeat our foes, and maybe knock over some cups?\",\n",
    "    \"Tell me the game plan again. Wait. Fish! Someone has fish! Where is it?\",\n",
    "    \"So, who wants to be my best friend? ...Book, I know you're already my best friend!\",\n",
    "    \"Keep an eye out for red dot, Book! It's gotta be here somewhere.\",\n",
    "    \"Where's my fishy fishy fish for my dishy dishy dish?\",\n",
    "    \"Where's my fishy fish fish dish? Meow!\",\n",
    "    \"I won't lose you, Book! Not after losing Master.\",\n",
    "    \"Today we are destroyers!\",\n",
    "    \"Don't tell anyone but... I love hugs.\",\n",
    "    \"Book, float us that-a-way!\",\n",
    "    \"Where to, Book?\" ,\n",
    "    \"The expert huntress stalks the battlefield.\",\n",
    "    \"A river? Uh-uh! Book hates water!\",\n",
    "    \"Do not drop me! Do not drop me!\",\n",
    "    \"This way! No THIS way! Woah-kay, that way it is.\",\n",
    "    \"I'm like your ghost! WooOOooh!\",\n",
    "    \"They aren't ready for the ferocious team of... US!\",\n",
    "    \"You can pet me on my chin and back! Nowhere else. Mrow.\",\n",
    "    \"Do you have snacks in your pocket? How 'bout now? ...How 'bout now?!\",\n",
    "    \"Faster! Faster!\",\n",
    "    \"Is it time to save our friends again?\",\n",
    "    \"Ooh, you smell good! Did you recently fish?\",\n",
    "    \"Mush, mush! Wheeeeheehee!\",\n",
    "    \"I could tell you wanted a brave and powerful warrior by your side.\",\n",
    "    \"Do you ever get so sleepy you fall asleep sitting up? Just me?\",\n",
    "    \"Okay, it's time to prowl! You do know how to prowl, right?\",\n",
    "    \"Rubbing my head on you means you're mine!\" ,\n",
    "    \"If we find a rat, I call dibs! Or a bug. Or a FISH!\",\n",
    "    \"Wherever you go, I go! Just... don't go somewhere bad.\",\n",
    "    \"Naps make my magic stronger! It's true! Look!\",\n",
    "    \"I'm so strong, mmh, so strong!\",\n",
    "    \"Hey Book, do you ever take a nap? ...You can't?! What do you do all day?!\",\n",
    "    \"Book, sometimes I pretend you're just a nice comfy box! ...What? That's a compliment!\" ,\n",
    "    \"The Book-keeper is a great role for someone as responsible as me! ...What?\",\n",
    "    \"I save my friends? No one notices. I open a teensy portal to the spirit realm? Everyone is up in my fur!\",\n",
    "    \"If I didn't have to protect Book, I'd just be a normal magical cat floating around Bandle City! Okay, napping around Bandle City.\",\n",
    "    \"I've read all of Book. Well, most of Book. I like the pictures of fish... of which there are none, Book!\" ,\n",
    "    \"Ah, I miss the way my yordle scratched between my ears. ...Being read from cover to cover sounds nice too.\",\n",
    "    \"Hmm, today should I follow my head? Or my nose, or.. OH! Sunbeam ahead! Let's chase that!\",\n",
    "    \"Someone scratched out the page that led here! That's right, Book. Someone! We'll never know who.\",\n",
    "    \"If I ever lost you, Book, the fabric of the spirit realm would get all torn up! And I'd lose my best friend.\",\n",
    "    \"I'm descended from lions! And you're descended from trees! We're in our element, Book!\",\n",
    "    \"The only thing standing between us and lunch is... our enemies.\",\n",
    "    \"I am the brains, you are the brawn, Book... is Book!\",\n",
    "    \"In case you're wondering what that smell is, it's Book. Smells like old trees.\",\n",
    "    \"Don't worry, I'll be here through thick or thin! Unless I smell fish. Gasp- Do you have fish?!\",\n",
    "    \"Hey, new friend? Uh, warn me if you're going to do something crazy, okay?\",\n",
    "    \"Don't get too attached, Book! This one looks reckless...\",\n",
    "    \"Hey. Hey. Hey. HEY! ...Huh? Oh no, I don't need anything!\",\n",
    "    \"You hungry? I stuck a leftover rat on page 237! Mew!\",\n",
    "    \"Do you know what this word means? Book called me that and I think it might be mean.\",\n",
    "    \"If someone told you to jump in a lake, would you do it? Just 'cause... I go where you go.\",\n",
    "    \"I bet we'll be friends forever! Well, unless you wander into the brush with your face.\"])\n",
    "                  "
   ]
  },
  {
   "cell_type": "code",
   "execution_count": null,
   "metadata": {
    "ExecuteTime": {
     "end_time": "2022-01-31T08:03:36.721113Z",
     "start_time": "2022-01-31T08:03:36.680580Z"
    }
   },
   "outputs": [],
   "source": [
    "def tweet(query):\n",
    "    for i in range(10):\n",
    "        if (\"Yi\" in query or \"yi\" in query or \"YI\" in query):\n",
    "            try:\n",
    "                text_model = markovify.Text(master_yi,state_size=1)\n",
    "                text = text_model.make_short_sentence(100)\n",
    "                response = client.create_tweet(text=text+\" #Master_yi #League #Generated\")\n",
    "                print(\"Yi tweet Done\")\n",
    "            except:\n",
    "                print(\"yi tweet not done\")\n",
    "            time.sleep(2)\n",
    "        elif (\"Vi\" in query or \"vi\" in query or \"VI\" in query):\n",
    "            try:\n",
    "                text_model = markovify.Text(vi,state_size=1)\n",
    "                text = text_model.make_short_sentence(100)\n",
    "                response = client.create_tweet(text=text+\" #Vi #League #Generated\")\n",
    "                print(\"Vi tweet Done.\")\n",
    "            except:\n",
    "                print(\"vi tweet not done\")\n",
    "            time.sleep(2)\n",
    "        elif (\"Lux\" in query or \"lux\" in query or \"LUX\" in query):\n",
    "            try:\n",
    "                text_model = markovify.Text(lux,state_size=1)\n",
    "                text = text_model.make_short_sentence(100)\n",
    "                response = client.create_tweet(text=text+\" #Lux #League #Generated\")\n",
    "                print(\"Lux tweet Done.\")\n",
    "            except:\n",
    "                print(\"lux tweet not done\")\n",
    "            time.sleep(2)\n",
    "        elif (\"Rell\" in query or \"rell\" in query or \"RELL\" in query):\n",
    "            try:\n",
    "                text_model = markovify.Text(rell,state_size=2)\n",
    "                text = text_model.make_short_sentence(100)\n",
    "                response = client.create_tweet(text=text+\" #Rell #League #Generated\")\n",
    "                print(\"Rell tweet Done.\")\n",
    "            except:\n",
    "                print(\"Rell tweet not done\")\n",
    "            time.sleep(2)\n",
    "        elif (\"Samira\" in query or \"samira\" in query or \"Samira\" in query):\n",
    "            try:\n",
    "                text_model = markovify.Text(samira,state_size=1)\n",
    "                text = text_model.make_short_sentence(100)\n",
    "                response = client.create_tweet(text=text+\" #Samira #League #Generated\")\n",
    "                print(\"Samira tweet Done.\")\n",
    "            except:\n",
    "                print(\"samira tweet not done\")\n",
    "            time.sleep(2)\n",
    "        elif (\"Yuumi\" in query or \"yuumi\" in query or \"YUUMI\" in query):\n",
    "            try:\n",
    "                text_model = markovify.Text(yuumi,state_size=2)\n",
    "                text = text_model.make_short_sentence(100)\n",
    "                response = client.create_tweet(text=text+\" #Yuumi #League #Generated\")\n",
    "                print(\"Yuumi tweet Done.\")\n",
    "            except:\n",
    "                print(\"Yuumi tweet not done\")\n",
    "            time.sleep(2)\n",
    "    \n",
    "    \n",
    "    "
   ]
  },
  {
   "cell_type": "code",
   "execution_count": null,
   "metadata": {
    "ExecuteTime": {
     "end_time": "2022-01-31T08:06:48.876818Z",
     "start_time": "2022-01-31T08:03:36.967260Z"
    }
   },
   "outputs": [],
   "source": [
    "def main():\n",
    "    url = create_url()\n",
    "    params = get_params()\n",
    "    query = connect_to_endpoint(url, params)\n",
    "    for i in range(1000):\n",
    "        old_query = query\n",
    "        time.sleep(20)\n",
    "        query = connect_to_endpoint(url, params)\n",
    "        if query!= old_query:\n",
    "            print(query)\n",
    "            tweet(query)\n",
    "\n",
    "if __name__ == \"__main__\":\n",
    "    main()"
   ]
  },
  {
   "cell_type": "code",
   "execution_count": null,
   "metadata": {},
   "outputs": [],
   "source": []
  }
 ],
 "metadata": {
  "kernelspec": {
   "display_name": "Python 3",
   "language": "python",
   "name": "python3"
  },
  "language_info": {
   "codemirror_mode": {
    "name": "ipython",
    "version": 3
   },
   "file_extension": ".py",
   "mimetype": "text/x-python",
   "name": "python",
   "nbconvert_exporter": "python",
   "pygments_lexer": "ipython3",
   "version": "3.7.6"
  }
 },
 "nbformat": 4,
 "nbformat_minor": 4
}
